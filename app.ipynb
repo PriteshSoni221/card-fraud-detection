{
 "cells": [
  {
   "cell_type": "markdown",
   "metadata": {},
   "source": [
    "## Importing dependencies"
   ]
  },
  {
   "cell_type": "code",
   "execution_count": null,
   "metadata": {
    "ExecuteTime": {
     "end_time": "2024-10-30T23:36:44.368331Z",
     "start_time": "2024-10-30T23:36:42.624093Z"
    }
   },
   "outputs": [],
   "source": [
    "import numpy as np\n",
    "import pandas as pd\n",
    "from sklearn.model_selection import train_test_split\n",
    "from sklearn.linear_model import LogisticRegression\n",
    "from sklearn.metrics import accuracy_score"
   ]
  },
  {
   "cell_type": "markdown",
   "metadata": {},
   "source": [
    "## Loading the dataset"
   ]
  },
  {
   "cell_type": "code",
   "execution_count": null,
   "metadata": {
    "ExecuteTime": {
     "end_time": "2024-10-30T23:36:47.086947Z",
     "start_time": "2024-10-30T23:36:44.388315Z"
    }
   },
   "outputs": [],
   "source": [
    "credit_card_data = pd.read_csv(\"creditcard.csv\")"
   ]
  },
  {
   "cell_type": "code",
   "execution_count": null,
   "metadata": {
    "ExecuteTime": {
     "end_time": "2024-10-30T23:36:47.644982Z",
     "start_time": "2024-10-30T23:36:47.600865Z"
    }
   },
   "outputs": [],
   "source": [
    "credit_card_data.head(5)"
   ]
  },
  {
   "cell_type": "code",
   "execution_count": null,
   "metadata": {
    "ExecuteTime": {
     "end_time": "2024-10-30T23:36:47.723776Z",
     "start_time": "2024-10-30T23:36:47.690158Z"
    }
   },
   "outputs": [],
   "source": [
    "credit_card_data.tail(5)"
   ]
  },
  {
   "cell_type": "markdown",
   "metadata": {},
   "source": [
    "## Exploring the dataset"
   ]
  },
  {
   "cell_type": "code",
   "execution_count": null,
   "metadata": {
    "ExecuteTime": {
     "end_time": "2024-10-30T23:36:47.850202Z",
     "start_time": "2024-10-30T23:36:47.805070Z"
    }
   },
   "outputs": [],
   "source": [
    "credit_card_data.info()"
   ]
  },
  {
   "cell_type": "code",
   "execution_count": null,
   "metadata": {
    "ExecuteTime": {
     "end_time": "2024-10-30T23:36:48.665057Z",
     "start_time": "2024-10-30T23:36:48.072150Z"
    }
   },
   "outputs": [],
   "source": [
    "credit_card_data.describe()"
   ]
  },
  {
   "cell_type": "code",
   "execution_count": null,
   "metadata": {
    "ExecuteTime": {
     "end_time": "2024-10-30T23:36:48.899386Z",
     "start_time": "2024-10-30T23:36:48.871236Z"
    }
   },
   "outputs": [],
   "source": [
    "credit_card_data.isna().sum()"
   ]
  },
  {
   "cell_type": "markdown",
   "metadata": {},
   "source": [
    "## Distribution of legit and fraudulent transaction"
   ]
  },
  {
   "cell_type": "code",
   "execution_count": null,
   "metadata": {
    "ExecuteTime": {
     "end_time": "2024-10-30T23:36:49.055202Z",
     "start_time": "2024-10-30T23:36:49.041676Z"
    }
   },
   "outputs": [],
   "source": [
    "val_count = credit_card_data.Class.value_counts()\n",
    "num_of_fradulent_transaction = val_count[1] "
   ]
  },
  {
   "cell_type": "markdown",
   "metadata": {},
   "source": [
    "##### Data is highly unbalanced\n",
    "0 -> normal transaction(284315)\\\n",
    "1 -> fraud transaction(492)"
   ]
  },
  {
   "cell_type": "markdown",
   "metadata": {},
   "source": [
    "#### Separating the data for analysis"
   ]
  },
  {
   "cell_type": "code",
   "execution_count": null,
   "metadata": {
    "ExecuteTime": {
     "end_time": "2024-10-30T23:36:49.258272Z",
     "start_time": "2024-10-30T23:36:49.194995Z"
    }
   },
   "outputs": [],
   "source": [
    "legit_data = credit_card_data[credit_card_data.Class == 0]\n",
    "fraud_data = credit_card_data[credit_card_data.Class == 1]"
   ]
  },
  {
   "cell_type": "code",
   "execution_count": null,
   "metadata": {
    "ExecuteTime": {
     "end_time": "2024-10-30T23:36:49.401125Z",
     "start_time": "2024-10-30T23:36:49.366012Z"
    }
   },
   "outputs": [],
   "source": [
    "legit_data.Amount.describe()"
   ]
  },
  {
   "cell_type": "code",
   "execution_count": null,
   "metadata": {
    "ExecuteTime": {
     "end_time": "2024-10-30T23:36:49.464266Z",
     "start_time": "2024-10-30T23:36:49.453749Z"
    }
   },
   "outputs": [],
   "source": [
    "fraud_data.Amount.describe()"
   ]
  },
  {
   "cell_type": "markdown",
   "metadata": {},
   "source": [
    "#### Compare the values for both types of transactions"
   ]
  },
  {
   "cell_type": "code",
   "execution_count": null,
   "metadata": {
    "ExecuteTime": {
     "end_time": "2024-10-30T23:36:49.758479Z",
     "start_time": "2024-10-30T23:36:49.637331Z"
    }
   },
   "outputs": [],
   "source": [
    "credit_card_data.groupby('Class').mean()"
   ]
  },
  {
   "cell_type": "markdown",
   "metadata": {},
   "source": [
    "#### Under-Sampling\n",
    "Build a sample dataset containing similar distribution of normal transaction and fraudulent transaction"
   ]
  },
  {
   "cell_type": "code",
   "execution_count": null,
   "metadata": {
    "ExecuteTime": {
     "end_time": "2024-10-30T23:36:49.901726Z",
     "start_time": "2024-10-30T23:36:49.873152Z"
    }
   },
   "outputs": [],
   "source": [
    "legit_sample = legit_data.sample(n=num_of_fradulent_transaction)"
   ]
  },
  {
   "cell_type": "code",
   "execution_count": null,
   "metadata": {
    "ExecuteTime": {
     "end_time": "2024-10-30T23:36:50.151192Z",
     "start_time": "2024-10-30T23:36:50.138144Z"
    }
   },
   "outputs": [],
   "source": [
    "balanced_dataset = pd.concat([legit_sample, fraud_data], axis=0)"
   ]
  },
  {
   "cell_type": "code",
   "execution_count": null,
   "metadata": {
    "ExecuteTime": {
     "end_time": "2024-10-30T23:36:50.339416Z",
     "start_time": "2024-10-30T23:36:50.266532Z"
    }
   },
   "outputs": [],
   "source": [
    "balanced_dataset.head()"
   ]
  },
  {
   "cell_type": "code",
   "execution_count": null,
   "metadata": {
    "ExecuteTime": {
     "end_time": "2024-10-30T23:36:50.481293Z",
     "start_time": "2024-10-30T23:36:50.451706Z"
    }
   },
   "outputs": [],
   "source": [
    "balanced_dataset.tail()"
   ]
  },
  {
   "cell_type": "code",
   "execution_count": null,
   "metadata": {
    "ExecuteTime": {
     "end_time": "2024-10-30T23:36:50.580216Z",
     "start_time": "2024-10-30T23:36:50.562145Z"
    }
   },
   "outputs": [],
   "source": [
    "balanced_dataset['Class'].value_counts()"
   ]
  },
  {
   "cell_type": "code",
   "execution_count": null,
   "metadata": {
    "ExecuteTime": {
     "end_time": "2024-10-30T23:36:50.860326Z",
     "start_time": "2024-10-30T23:36:50.816151Z"
    }
   },
   "outputs": [],
   "source": [
    "balanced_dataset.groupby('Class').mean()"
   ]
  },
  {
   "cell_type": "markdown",
   "metadata": {},
   "source": [
    "#### Splitting the data"
   ]
  },
  {
   "cell_type": "code",
   "execution_count": null,
   "metadata": {
    "ExecuteTime": {
     "end_time": "2024-10-30T23:36:51.064396Z",
     "start_time": "2024-10-30T23:36:51.048856Z"
    }
   },
   "outputs": [],
   "source": [
    "X = balanced_dataset.drop(columns='Class', axis=1)\n",
    "y = balanced_dataset['Class']"
   ]
  },
  {
   "cell_type": "code",
   "execution_count": null,
   "metadata": {
    "ExecuteTime": {
     "end_time": "2024-10-30T23:36:51.411174Z",
     "start_time": "2024-10-30T23:36:51.397132Z"
    }
   },
   "outputs": [],
   "source": [
    "X_train, X_test, y_train, y_test = train_test_split(X, y, test_size=0.2, stratify=y, random_state=2)"
   ]
  },
  {
   "cell_type": "markdown",
   "metadata": {},
   "source": [
    "#### Model Training"
   ]
  },
  {
   "cell_type": "code",
   "execution_count": null,
   "metadata": {
    "ExecuteTime": {
     "end_time": "2024-10-30T23:36:51.551697Z",
     "start_time": "2024-10-30T23:36:51.538892Z"
    }
   },
   "outputs": [],
   "source": [
    "model = LogisticRegression()"
   ]
  },
  {
   "cell_type": "code",
   "execution_count": null,
   "metadata": {
    "ExecuteTime": {
     "end_time": "2024-10-30T23:37:45.964301Z",
     "start_time": "2024-10-30T23:37:45.932820Z"
    }
   },
   "outputs": [],
   "source": [
    "model.fit(X_train, y_train)"
   ]
  },
  {
   "cell_type": "markdown",
   "metadata": {},
   "source": [
    "#### Model Evaluation"
   ]
  },
  {
   "cell_type": "code",
   "execution_count": null,
   "metadata": {
    "ExecuteTime": {
     "end_time": "2024-10-30T23:36:51.913487Z",
     "start_time": "2024-10-30T23:36:51.891426Z"
    }
   },
   "outputs": [],
   "source": [
    "X_train_prediction = model.predict(X_train)\n",
    "training_data_accuracy = accuracy_score(X_train_prediction, y_train)"
   ]
  },
  {
   "cell_type": "code",
   "execution_count": null,
   "metadata": {
    "ExecuteTime": {
     "end_time": "2024-10-30T23:36:52.006764Z",
     "start_time": "2024-10-30T23:36:51.994234Z"
    }
   },
   "outputs": [],
   "source": [
    "print(training_data_accuracy)"
   ]
  },
  {
   "cell_type": "code",
   "execution_count": null,
   "metadata": {
    "ExecuteTime": {
     "end_time": "2024-10-30T23:36:52.177143Z",
     "start_time": "2024-10-30T23:36:52.163603Z"
    }
   },
   "outputs": [],
   "source": [
    "X_test_prediction = model.predict(X_test)\n",
    "test_data_accuracy = accuracy_score(X_test_prediction, y_test)"
   ]
  },
  {
   "cell_type": "code",
   "execution_count": null,
   "metadata": {
    "ExecuteTime": {
     "end_time": "2024-10-30T23:36:52.192196Z",
     "start_time": "2024-10-30T23:36:52.184676Z"
    }
   },
   "outputs": [],
   "source": [
    "print(test_data_accuracy)"
   ]
  }
 ],
 "metadata": {
  "kernelspec": {
   "display_name": "Python 3",
   "language": "python",
   "name": "python3"
  },
  "language_info": {
   "codemirror_mode": {
    "name": "ipython",
    "version": 3
   },
   "file_extension": ".py",
   "mimetype": "text/x-python",
   "name": "python",
   "nbconvert_exporter": "python",
   "pygments_lexer": "ipython3",
   "version": "3.10.11"
  }
 },
 "nbformat": 4,
 "nbformat_minor": 4
}
